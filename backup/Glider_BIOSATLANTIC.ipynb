{
 "cells": [
  {
   "cell_type": "code",
   "execution_count": 15,
   "metadata": {
    "collapsed": true
   },
   "outputs": [],
   "source": [
    "from parcels import *\n",
    "import numpy as np\n",
    "import math\n",
    "from datetime import timedelta as delta\n",
    "from operator import attrgetter\n",
    "import netCDF4\n",
    "import pandas\n",
    "import os\n",
    "from datetime import datetime\n",
    "import matplotlib.pyplot as plt\n",
    "from mpl_toolkits.basemap import Basemap\n",
    "from datetime import datetime\n",
    "from matplotlib.pyplot import hold, figure, pcolor, colorbar, xlabel, ylabel, title, draw, quiver, show, savefig\n",
    "import cmocean as cm\n",
    "%matplotlib inline"
   ]
  },
  {
   "cell_type": "code",
   "execution_count": 14,
   "metadata": {
    "scrolled": false
   },
   "outputs": [
    {
     "name": "stderr",
     "output_type": "stream",
     "text": [
      "WARNING: Casting depth data to np.float32\n",
      "INFO: Compiled JITParticleAdvectionRK4 ==> /var/folders/r4/54mc4t2559d_d1fnkl99m38r0000gn/T/parcels-501/27805ff3aa34ba12ddb373f3f2cb1d1b.so\n"
     ]
    },
    {
     "ename": "KeyboardInterrupt",
     "evalue": "",
     "output_type": "error",
     "traceback": [
      "\u001b[0;31m---------------------------------------------------------------------------\u001b[0m",
      "\u001b[0;31mKeyboardInterrupt\u001b[0m                         Traceback (most recent call last)",
      "\u001b[0;32m<ipython-input-14-13bf6025a5d5>\u001b[0m in \u001b[0;36m<module>\u001b[0;34m()\u001b[0m\n\u001b[1;32m     25\u001b[0m \u001b[0moutput_file\u001b[0m \u001b[0;34m=\u001b[0m \u001b[0mpset\u001b[0m\u001b[0;34m.\u001b[0m\u001b[0mParticleFile\u001b[0m\u001b[0;34m(\u001b[0m\u001b[0mname\u001b[0m\u001b[0;34m=\u001b[0m\u001b[0;34m\"testing3\"\u001b[0m\u001b[0;34m)\u001b[0m\u001b[0;34m\u001b[0m\u001b[0m\n\u001b[1;32m     26\u001b[0m pset.execute(AdvectionRK4, starttime=datetime(2008, 1, 1), runtime=timedelta(days=1000),\n\u001b[0;32m---> 27\u001b[0;31m              dt=timedelta(minutes=5), interval=timedelta(hours=6),output_file=output_file)\n\u001b[0m\u001b[1;32m     28\u001b[0m \u001b[0mnc\u001b[0m \u001b[0;34m=\u001b[0m \u001b[0mnetCDF4\u001b[0m\u001b[0;34m.\u001b[0m\u001b[0mDataset\u001b[0m\u001b[0;34m(\u001b[0m\u001b[0;34m\"testing3.nc\"\u001b[0m\u001b[0;34m)\u001b[0m\u001b[0;34m\u001b[0m\u001b[0m\n\u001b[1;32m     29\u001b[0m \u001b[0mlon\u001b[0m \u001b[0;34m=\u001b[0m \u001b[0mnc\u001b[0m\u001b[0;34m.\u001b[0m\u001b[0mvariables\u001b[0m\u001b[0;34m[\u001b[0m\u001b[0;34m\"lon\"\u001b[0m\u001b[0;34m]\u001b[0m\u001b[0;34m[\u001b[0m\u001b[0;34m:\u001b[0m\u001b[0;34m]\u001b[0m\u001b[0;34m\u001b[0m\u001b[0m\n",
      "\u001b[0;32m/Users/hart-davis/anaconda2/lib/python2.7/site-packages/parcels-0.10.dev27+gff44ff4-py2.7.egg/parcels/particleset.pyc\u001b[0m in \u001b[0;36mexecute\u001b[0;34m(self, pyfunc, starttime, endtime, dt, runtime, interval, recovery, output_file, show_movie)\u001b[0m\n\u001b[1;32m    294\u001b[0m             \u001b[0;31m# First write output_file, because particles could have been added\u001b[0m\u001b[0;34m\u001b[0m\u001b[0;34m\u001b[0m\u001b[0m\n\u001b[1;32m    295\u001b[0m             \u001b[0;32mif\u001b[0m \u001b[0moutput_file\u001b[0m\u001b[0;34m:\u001b[0m\u001b[0;34m\u001b[0m\u001b[0m\n\u001b[0;32m--> 296\u001b[0;31m                 \u001b[0moutput_file\u001b[0m\u001b[0;34m.\u001b[0m\u001b[0mwrite\u001b[0m\u001b[0;34m(\u001b[0m\u001b[0mself\u001b[0m\u001b[0;34m,\u001b[0m \u001b[0mleaptime\u001b[0m\u001b[0;34m)\u001b[0m\u001b[0;34m\u001b[0m\u001b[0m\n\u001b[0m\u001b[1;32m    297\u001b[0m             \u001b[0;32mif\u001b[0m \u001b[0mshow_movie\u001b[0m\u001b[0;34m:\u001b[0m\u001b[0;34m\u001b[0m\u001b[0m\n\u001b[1;32m    298\u001b[0m                 \u001b[0mself\u001b[0m\u001b[0;34m.\u001b[0m\u001b[0mshow\u001b[0m\u001b[0;34m(\u001b[0m\u001b[0mfield\u001b[0m\u001b[0;34m=\u001b[0m\u001b[0mshow_movie\u001b[0m\u001b[0;34m,\u001b[0m \u001b[0mshow_time\u001b[0m\u001b[0;34m=\u001b[0m\u001b[0mleaptime\u001b[0m\u001b[0;34m)\u001b[0m\u001b[0;34m\u001b[0m\u001b[0m\n",
      "\u001b[0;32m/Users/hart-davis/anaconda2/lib/python2.7/site-packages/parcels-0.10.dev27+gff44ff4-py2.7.egg/parcels/particlefile.pyc\u001b[0m in \u001b[0;36mwrite\u001b[0;34m(self, pset, time, sync)\u001b[0m\n\u001b[1;32m    126\u001b[0m                 \u001b[0;31m# Otherwise, new particles have been added and netcdf will fail\u001b[0m\u001b[0;34m\u001b[0m\u001b[0;34m\u001b[0m\u001b[0m\n\u001b[1;32m    127\u001b[0m                 \u001b[0;32mif\u001b[0m \u001b[0mpset\u001b[0m\u001b[0;34m.\u001b[0m\u001b[0msize\u001b[0m \u001b[0;34m>\u001b[0m \u001b[0;36m0\u001b[0m\u001b[0;34m:\u001b[0m\u001b[0;34m\u001b[0m\u001b[0m\n\u001b[0;32m--> 128\u001b[0;31m                     \u001b[0;32mif\u001b[0m \u001b[0mmax\u001b[0m\u001b[0;34m(\u001b[0m\u001b[0;34m[\u001b[0m\u001b[0mp\u001b[0m\u001b[0;34m.\u001b[0m\u001b[0mid\u001b[0m \u001b[0;32mfor\u001b[0m \u001b[0mp\u001b[0m \u001b[0;32min\u001b[0m \u001b[0mpset\u001b[0m\u001b[0;34m]\u001b[0m\u001b[0;34m)\u001b[0m \u001b[0;34m>\u001b[0m \u001b[0mself\u001b[0m\u001b[0;34m.\u001b[0m\u001b[0mid\u001b[0m\u001b[0;34m[\u001b[0m\u001b[0;34m-\u001b[0m\u001b[0;36m1\u001b[0m\u001b[0;34m]\u001b[0m\u001b[0;34m:\u001b[0m\u001b[0;34m\u001b[0m\u001b[0m\n\u001b[0m\u001b[1;32m    129\u001b[0m                         \u001b[0mlogger\u001b[0m\u001b[0;34m.\u001b[0m\u001b[0merror\u001b[0m\u001b[0;34m(\u001b[0m\u001b[0;34m\"Number of particles appears to increase. Use type='indexed' for ParticleFile\"\u001b[0m\u001b[0;34m)\u001b[0m\u001b[0;34m\u001b[0m\u001b[0m\n\u001b[1;32m    130\u001b[0m \u001b[0;34m\u001b[0m\u001b[0m\n",
      "\u001b[0;32m/Users/hart-davis/anaconda2/lib/python2.7/site-packages/parcels-0.10.dev27+gff44ff4-py2.7.egg/parcels/particle.pyc\u001b[0m in \u001b[0;36m__get__\u001b[0;34m(self, instance, cls)\u001b[0m\n\u001b[1;32m     30\u001b[0m             \u001b[0;32mreturn\u001b[0m \u001b[0mself\u001b[0m\u001b[0;34m\u001b[0m\u001b[0m\n\u001b[1;32m     31\u001b[0m         \u001b[0;32mif\u001b[0m \u001b[0missubclass\u001b[0m\u001b[0;34m(\u001b[0m\u001b[0mcls\u001b[0m\u001b[0;34m,\u001b[0m \u001b[0mJITParticle\u001b[0m\u001b[0;34m)\u001b[0m\u001b[0;34m:\u001b[0m\u001b[0;34m\u001b[0m\u001b[0m\n\u001b[0;32m---> 32\u001b[0;31m             \u001b[0;32mreturn\u001b[0m \u001b[0minstance\u001b[0m\u001b[0;34m.\u001b[0m\u001b[0m_cptr\u001b[0m\u001b[0;34m.\u001b[0m\u001b[0m__getitem__\u001b[0m\u001b[0;34m(\u001b[0m\u001b[0mself\u001b[0m\u001b[0;34m.\u001b[0m\u001b[0mname\u001b[0m\u001b[0;34m)\u001b[0m\u001b[0;34m\u001b[0m\u001b[0m\n\u001b[0m\u001b[1;32m     33\u001b[0m         \u001b[0;32melse\u001b[0m\u001b[0;34m:\u001b[0m\u001b[0;34m\u001b[0m\u001b[0m\n\u001b[1;32m     34\u001b[0m             \u001b[0;32mreturn\u001b[0m \u001b[0mgetattr\u001b[0m\u001b[0;34m(\u001b[0m\u001b[0minstance\u001b[0m\u001b[0;34m,\u001b[0m \u001b[0;34m\"_%s\"\u001b[0m \u001b[0;34m%\u001b[0m \u001b[0mself\u001b[0m\u001b[0;34m.\u001b[0m\u001b[0mname\u001b[0m\u001b[0;34m,\u001b[0m \u001b[0mself\u001b[0m\u001b[0;34m.\u001b[0m\u001b[0minitial\u001b[0m\u001b[0;34m)\u001b[0m\u001b[0;34m\u001b[0m\u001b[0m\n",
      "\u001b[0;31mKeyboardInterrupt\u001b[0m: "
     ]
    }
   ],
   "source": [
    "globfiles = [\"/Users/hart-davis/Desktop/BIOSATLANTIC12-CNCRAD07A_y2007m12d31_gridU.nc\"]\n",
    "globfile = [\"/Users/hart-davis/Desktop/BIOSATLANTIC12-CNCRAD07A_y2007m12d31_gridV.nc\"]\n",
    "\n",
    "filenames = {'U': globfiles,\n",
    "             'V': globfile}\n",
    "\n",
    "variables = {'U': 'vozocrtx',\n",
    "             'V': 'vomecrty'}\n",
    "dimensions = {'lat': 'nav_lat',\n",
    "              'lon': 'nav_lon',\n",
    "              'time': 'time_counter'}\n",
    "\n",
    "fieldset = FieldSet.from_netcdf(filenames, variables, dimensions, allow_time_extrapolation=True)\n",
    "\n",
    "lonW = -70  #western part of deployment box\n",
    "lonE = 56  #eastern part of deployment box\n",
    "latS = -70 #southern part of deployment box\n",
    "latN = -30 #northern part of deployment box\n",
    "particles = 10 #number of particles one wants to deploy\n",
    "\n",
    "lons, lats = np.meshgrid(np.arange(lonW, lonE, 2), np.arange(latS, latN,2))\n",
    "pset = ParticleSet.from_list(fieldset=fieldset, pclass=JITParticle, lon=lons, lat=lats)\n",
    "\n",
    "os.remove(\"testing3.nc\")\n",
    "output_file = pset.ParticleFile(name=\"testing3\")\n",
    "pset.execute(AdvectionRK4, starttime=datetime(2008, 1, 1), runtime=timedelta(days=1000),\n",
    "             dt=timedelta(minutes=5), interval=timedelta(hours=6),output_file=output_file)\n",
    "nc = netCDF4.Dataset(\"testing3.nc\")\n",
    "lon = nc.variables[\"lon\"][:]\n",
    "lat = nc.variables[\"lat\"][:]\n",
    "\n",
    "ncd = netCDF4.Dataset('/Users/hart-davis/Desktop/BIOSATLANTIC12-CNCRAD07A_y2007m12d31_gridU.nc')\n",
    "ncf = netCDF4.Dataset('/Users/hart-davis/Desktop/BIOSATLANTIC12-CNCRAD07A_y2007m12d31_gridV.nc')\n",
    "\n",
    "lonx = ncd.variables[\"nav_lon\"][:]\n",
    "laty = ncd.variables[\"nav_lat\"][:]\n",
    "east = ncd.variables[\"vozocrtx\"][0,0]\n",
    "north = ncf.variables[\"vomecrty\"][0,0]\n",
    "figure1 = plt.figure(figsize=(13, 10), dpi=80, facecolor='w', edgecolor='k')\n",
    "\n",
    "m = Basemap(projection = \"merc\", resolution=\"i\",llcrnrlon = -70, \n",
    "            llcrnrlat = -70, urcrnrlon = 56, urcrnrlat = -29,lat_0= -20,lon_0 = 0)\n",
    "f1,f2 = m(lon,lat)\n",
    "for i in range(0,len(f1[0]-1)):\n",
    "    m.scatter(f1[:,i],f2[:,i],1, marker = \".\", alpha = 1, zorder=3)\n",
    "\n",
    "x,y = m(lonx,laty)\n",
    "\n",
    "speed = np.sqrt(np.square(east) + np.square(north))\n",
    "#Blue=GC\n",
    "#Red = Hycom\n",
    "m.streamplot(x,y,east,north,color=speed,density=3, cmap=plt.cm.bone, linewidth=speed/2)\n",
    "m.drawcoastlines()\n",
    "m.fillcontinents()\n",
    "m.drawmapboundary()\n",
    "#m.bluemarble()\n",
    "m.drawparallels(np.arange(-90.,99.,10), color=\"k\",labels=[1,0,0,0],fontsize=15)\n",
    "m.drawmeridians(np.arange(-180.,180.,10), color=\"k\",labels=[0,0,0,1],fontsize=15)\n",
    "\n",
    "plt.show()"
   ]
  },
  {
   "cell_type": "code",
   "execution_count": 18,
   "metadata": {},
   "outputs": [
    {
     "data": {
      "image/png": "[encoded data removed]",
      "text/plain": [
       "<matplotlib.figure.Figure at 0x119cc4f10>"
      ]
     },
     "metadata": {},
     "output_type": "display_data"
    }
   ],
   "source": [
    "plt.show(plt.plot(deptht))"
   ]
  },
  {
   "cell_type": "code",
   "execution_count": 66,
   "metadata": {
    "collapsed": true
   },
   "outputs": [],
   "source": [
    "def set_ofes_fieldset(snapshots):\n",
    "    ufiles = [\"/Users/hart-davis/Desktop/luke_gregor/BIOSATLANTIC12-CNCRAD07A_y2007m12d31_gridU0\"+str(s)+\".nc\" for s in snapshots]\n",
    "    vfiles = [\"/Users/hart-davis/Desktop/luke_gregor/BIOSATLANTIC12-CNCRAD07A_y2007m12d31_gridV0\"+str(s)+\".nc\" for s in snapshots]\n",
    "    wfiles = [\"/Users/hart-davis/Desktop/luke_gregor/BIOSATLANTIC12-CNCRAD07A_y2007m12d31_gridW0\"+str(s)+\".nc\" for s in snapshots]\n",
    "    tfiles = [\"/Users/hart-davis/Desktop/luke_gregor/BIOSATLANTIC12-CNCRAD07A_y2007m12d31_gridT0\"+str(s)+\".nc\" for s in snapshots]\n",
    "    filenames = {'U': ufiles, 'V': vfiles, 'W': wfiles, 'temp': tfiles}\n",
    "    variables = {'U': 'vozocrtx','V': 'vomecrty','W': 'vovecrtz', 'temp':'votemper'}\n",
    "    dimensions = {'lat': 'nav_lat','lon': 'nav_lon','time': 'time_counter','depth':'depth'}\n",
    "    fieldset = FieldSet.from_netcdf(filenames, variables, dimensions,allow_time_extrapolation=True)\n",
    "    fieldset.U.data # convert from cm/s to m/s\n",
    "    fieldset.V.data # convert from cm/s to m/s\n",
    "    fieldset.W.data  # convert from cm/s to m/s\n",
    "    return fieldset\n",
    "\n",
    "def SampleTemp(particle, fieldset, time, dt):\n",
    "    particle.temp = fieldset.temp[time, particle.lon, particle.lat, particle.depth]\n",
    "\n",
    "\n",
    "def Sink(particle, fieldset, time, dt):\n",
    "    if particle.depth > fieldset.dwellingdepth:\n",
    "        particle.depth = particle.depth + fieldset.sinkspeed * dt\n",
    "    else:\n",
    "        particle.depth = fieldset.dwellingdepth\n",
    "\n",
    "\n",
    "def Age(particle, fieldset, time, dt):\n",
    "    if particle.depth <= fieldset.dwellingdepth:\n",
    "        particle.age = particle.age + math.fabs(dt)\n",
    "    if particle.age > fieldset.maxage:\n",
    "        particle.delete()\n",
    "\n",
    "\n",
    "def DeleteParticle(particle, fieldset, time, dt):\n",
    "    particle.delete()\n",
    "\n",
    "\n",
    "def run_corefootprintparticles(outfile):\n",
    "    snapshots = range(0, 7)\n",
    "    fieldset = set_ofes_fieldset(snapshots[-4:-1])\n",
    "    fieldset.add_constant('dwellingdepth', 0)\n",
    "    fieldset.add_constant('sinkspeed', 1000/3600)\n",
    "    fieldset.add_constant('maxage', 30.*86400)\n",
    "\n",
    "    corelon = [17.30]\n",
    "    corelat = [-34.70]\n",
    "    coredepth = [1000]\n",
    "\n",
    "    class ForamParticle(JITParticle):\n",
    "        temp = Variable('temp', dtype=np.float32, initial=np.nan)\n",
    "        age = Variable('age', dtype=np.float32, initial=0.)\n",
    "\n",
    "    pset = ParticleSet(fieldset=fieldset, pclass=ForamParticle, lon=corelon, lat=corelat,\n",
    "                       depth=coredepth, time=fieldset.U.time[-1])\n",
    "    pfile = ParticleFile(outfile, pset, type=\"indexed\")\n",
    "    pfile.write(pset, pset[0].time)\n",
    "\n",
    "    kernels = pset.Kernel(AdvectionRK4_3D) + Sink + SampleTemp + Age\n",
    "\n",
    "    pbar = ProgressBar()\n",
    "    for s in pbar(range(len(snapshots)-5, -1, -1)):\n",
    "        pset.execute(kernels, starttime=pset[0].time, runtime=delta(days=30),\n",
    "                     dt=delta(minutes=-5), interval=delta(days=-1),\n",
    "                     recovery={ErrorCode.ErrorOutOfBounds: DeleteParticle})\n",
    "\n",
    "        pset.add(ForamParticle(lon=corelon, lat=corelat, depth=coredepth, fieldset=fieldset))\n",
    "        pfile.write(pset, pset[0].time)\n",
    "\n",
    "def make_plot(trajfile):\n",
    "    from netCDF4 import Dataset\n",
    "    import matplotlib.pyplot as plt\n",
    "    from mpl_toolkits.basemap import Basemap\n",
    "\n",
    "    class ParticleData(object):\n",
    "        def __init__(self):\n",
    "            self.id = []\n",
    "\n",
    "    def load_particles_file(fname, varnames):\n",
    "        T = ParticleData()\n",
    "        pfile = Dataset(fname, 'r')\n",
    "        T.id = pfile.variables['trajectory'][:]\n",
    "        for v in varnames:\n",
    "            setattr(T, v, pfile.variables[v][:])\n",
    "        return T\n",
    "\n",
    "    T = load_particles_file(trajfile, ['lon', 'lat', 'temp', 'z'])\n",
    "    m = Basemap(projection='merc', llcrnrlat=-40, urcrnrlat=-27.5, llcrnrlon=10, urcrnrlon=32.5, resolution='h')\n",
    "    m.drawcoastlines()\n",
    "    m.fillcontinents(color='burlywood')\n",
    "    m.drawparallels(np.arange(-50, -20, 10), labels=[True, False, False, False])\n",
    "    m.drawmeridians(np.arange(0, 40, 10), labels=[False, False, False, True])\n",
    "\n",
    "    sinks = np.where(T.z > 50.)\n",
    "    dwell = np.where(T.z == 50.)\n",
    "    xs, ys = m(T.lon[dwell], T.lat[dwell])\n",
    "    m.scatter(xs, ys, c=T.temp[dwell], s=5)\n",
    "    cbar = plt.colorbar()\n",
    "    cbar.ax.xaxis.set_label_position('top')\n",
    "    cbar.ax.set_xlabel('[$^\\circ$C]')\n",
    "\n",
    "    xs, ys = m(T.lon[sinks], T.lat[sinks])\n",
    "    m.scatter(xs, ys, c='k', s=5)\n",
    "    xs, ys = m(T.lon[0, 0], T.lat[0, 0])\n",
    "    m.plot(xs, ys, 'om')\n",
    "    plt.show()\n"
   ]
  },
  {
   "cell_type": "code",
   "execution_count": 67,
   "metadata": {},
   "outputs": [
    {
     "name": "stderr",
     "output_type": "stream",
     "text": [
      "INFO: Note that positive vertical velocity is assumed DOWNWARD by AdvectionRK4_3D\n",
      "INFO: Compiled ForamParticleAdvectionRK4_3DSinkSampleTempAge ==> /var/folders/r4/54mc4t2559d_d1fnkl99m38r0000gn/T/parcels-501/af4b48415baa5482478b0e0fea338f26.so\n",
      "100% |########################################################################|\n",
      "100% |########################################################################|\n",
      "/Users/hart-davis/anaconda2/lib/python2.7/site-packages/ipykernel_launcher.py:92: RuntimeWarning: invalid value encountered in greater\n"
     ]
    },
    {
     "data": {
      "image/png": "[encoded data removed]",
      "text/plain": [
       "<matplotlib.figure.Figure at 0x118420410>"
      ]
     },
     "metadata": {},
     "output_type": "display_data"
    }
   ],
   "source": [
    "os.remove(\"corefootprint_particles.nc\")\n",
    "outfile = \"corefootprint_particles\"\n",
    "\n",
    "run_corefootprintparticles(outfile)\n",
    "convert_IndexedOutputToArray(file_in=outfile+\".nc\", file_out=outfile+\"_array.nc\")\n",
    "make_plot(outfile+\"_array.nc\")"
   ]
  },
  {
   "cell_type": "code",
   "execution_count": 33,
   "metadata": {
    "collapsed": true
   },
   "outputs": [],
   "source": [
    "nc = netCDF4.Dataset(\"/Users/hart-davis/Desktop/BIOSATLANTIC12-CNCRAD07A_y2007m12d31_gridU.nc\")"
   ]
  },
  {
   "cell_type": "code",
   "execution_count": 39,
   "metadata": {},
   "outputs": [
    {
     "data": {
      "text/plain": [
       "599184000"
      ]
     },
     "execution_count": 39,
     "metadata": {},
     "output_type": "execute_result"
    }
   ],
   "source": [
    "int(nc.variables[\"time_counter\"][0])"
   ]
  },
  {
   "cell_type": "code",
   "execution_count": 76,
   "metadata": {},
   "outputs": [],
   "source": [
    "snapshots = range(1,2)\n",
    "\n",
    "ufiles = [\"/Users/hart-davis/Desktop/luke_gregor/BIOSATLANTIC12-CNCRAD07A_y2007m12d31_gridU0\"+str(s)+\".nc\" for s in snapshots]\n",
    "vfiles = [\"/Users/hart-davis/Desktop/luke_gregor/BIOSATLANTIC12-CNCRAD07A_y2007m12d31_gridV0\"+str(s)+\".nc\" for s in snapshots]\n",
    "wfiles = [\"/Users/hart-davis/Desktop/luke_gregor/BIOSATLANTIC12-CNCRAD07A_y2007m12d31_gridW0\"+str(s)+\".nc\" for s in snapshots]\n",
    "tfiles = [\"/Users/hart-davis/Desktop/luke_gregor/BIOSATLANTIC12-CNCRAD07A_y2007m12d31_gridT0\"+str(s)+\".nc\" for s in snapshots]\n",
    "filenames = {'U': ufiles, 'V': vfiles, 'W': wfiles, 'temp': tfiles}\n",
    "variables = {'U': 'vozocrtx','V': 'vomecrty','W': 'vovecrtz', 'temp':'votemper'}\n",
    "dimensions = {'lat': 'nav_lat','lon': 'nav_lon','time': 'time_counter','depth':'depth'}\n",
    "fieldset = FieldSet.from_netcdf(filenames, variables, dimensions,allow_time_extrapolation=True)\n",
    "\n",
    "fieldset = set_ofes_fieldset(snapshots[:])\n",
    "fieldset.add_constant('dwellingdepth', 1000)\n",
    "fieldset.add_constant('sinkspeed', 1000/3600)\n",
    "fieldset.add_constant('maxage', 30.*86400)\n",
    "    \n",
    "\n",
    "def Sink(particle, fieldset, time, dt):\n",
    "    if particle.depth > fieldset.dwellingdepth:\n",
    "        particle.depth = particle.depth + fieldset.sinkspeed * dt\n",
    "    else:\n",
    "        particle.depth = fieldset.dwellingdepth    \n",
    "    "
   ]
  },
  {
   "cell_type": "code",
   "execution_count": 109,
   "metadata": {},
   "outputs": [
    {
     "name": "stderr",
     "output_type": "stream",
     "text": [
      "INFO: Note that positive vertical velocity is assumed DOWNWARD by AdvectionRK4_3D\n",
      "INFO: Compiled JITParticleAdvectionRK4 ==> /var/folders/r4/54mc4t2559d_d1fnkl99m38r0000gn/T/parcels-501/27805ff3aa34ba12ddb373f3f2cb1d1b.so\n"
     ]
    }
   ],
   "source": [
    "kernels = pset.Kernel(AdvectionRK4_3D) + Sink\n",
    "\n",
    "lonW = -10  #western part of deployment box\n",
    "lonE = 10  #eastern part of deployment box\n",
    "latS = -65 #southern part of deployment box\n",
    "latN = -55 #northern part of deployment box\n",
    "npart = 100\n",
    "\n",
    "lons = np. linspace (lonW, lonE, npart , dtype =np. float32 )\n",
    "lats = np. linspace (latS, latN, npart , dtype =np. float32 )\n",
    "\n",
    "pset = ParticleSet( fieldset , lon=lons, lat=lats)\n",
    "\n",
    "os.remove(\"testing3.nc\")\n",
    "output_file = pset.ParticleFile(name=\"testing3\")\n",
    "pset.execute(AdvectionRK4, starttime=datetime(2008, 1, 1), runtime=timedelta(days=70),\n",
    "             dt=timedelta(minutes=5), interval=timedelta(hours=6),output_file=output_file)\n"
   ]
  },
  {
   "cell_type": "code",
   "execution_count": 110,
   "metadata": {},
   "outputs": [
    {
     "data": {
      "image/png": "[encoded data removed]",
      "text/plain": [
       "<matplotlib.figure.Figure at 0x1186f5210>"
      ]
     },
     "metadata": {},
     "output_type": "display_data"
    }
   ],
   "source": [
    "nc = netCDF4.Dataset(\"testing3.nc\")\n",
    "lon = nc.variables[\"lon\"][:]\n",
    "lat = nc.variables[\"lat\"][:]\n",
    "depth = nc.variables[\"z\"][:]\n",
    "\n",
    "m = Basemap(projection = \"merc\", resolution=\"i\",llcrnrlon = -70, \n",
    "            llcrnrlat = -70, urcrnrlon = 56, urcrnrlat = -29,lat_0= -20,lon_0 = 0)\n",
    "f1,f2 = m(lon,lat)\n",
    "m.scatter(f1,f2,10,color=\"red\", marker = \"o\", alpha = 1, zorder=3)\n",
    "\n",
    "#Blue=GC\n",
    "#Red = Hycom\n",
    "\n",
    "m.drawcoastlines()\n",
    "m.fillcontinents()\n",
    "m.drawmapboundary()\n",
    "#m.bluemarble()\n",
    "m.drawparallels(np.arange(-90.,99.,10), color=\"k\",labels=[1,0,0,0],fontsize=15)\n",
    "m.drawmeridians(np.arange(-180.,180.,10), color=\"k\",labels=[0,0,0,1],fontsize=15)\n",
    "\n",
    "plt.show()"
   ]
  },
  {
   "cell_type": "code",
   "execution_count": 111,
   "metadata": {},
   "outputs": [
    {
     "data": {
      "text/plain": [
       "<matplotlib.collections.PathCollection at 0x117856650>"
      ]
     },
     "execution_count": 111,
     "metadata": {},
     "output_type": "execute_result"
    },
    {
     "data": {
      "image/png": "[encoded data removed]",
      "text/plain": [
       "<matplotlib.figure.Figure at 0x1180fb590>"
      ]
     },
     "metadata": {},
     "output_type": "display_data"
    }
   ],
   "source": [
    "plt.scatter(lon,lat)"
   ]
  },
  {
   "cell_type": "code",
   "execution_count": 104,
   "metadata": {},
   "outputs": [
    {
     "data": {
      "text/plain": [
       "<function __main__.Sink>"
      ]
     },
     "execution_count": 104,
     "metadata": {},
     "output_type": "execute_result"
    }
   ],
   "source": [
    "Sink"
   ]
  },
  {
   "cell_type": "code",
   "execution_count": null,
   "metadata": {
    "collapsed": true
   },
   "outputs": [],
   "source": []
  }
 ],
 "metadata": {
  "kernelspec": {
   "display_name": "Python 2",
   "language": "python",
   "name": "python2"
  },
  "language_info": {
   "codemirror_mode": {
    "name": "ipython",
    "version": 2
   },
   "file_extension": ".py",
   "mimetype": "text/x-python",
   "name": "python",
   "nbconvert_exporter": "python",
   "pygments_lexer": "ipython2",
   "version": "2.7.13"
  }
 },
 "nbformat": 4,
 "nbformat_minor": 2
}
