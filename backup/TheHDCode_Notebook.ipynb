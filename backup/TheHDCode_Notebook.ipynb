{
 "cells": [
  {
   "cell_type": "markdown",
   "metadata": {},
   "source": [
    "# Importing Appropriate Modules "
   ]
  },
  {
   "cell_type": "code",
   "execution_count": 202,
   "metadata": {
    "collapsed": true
   },
   "outputs": [],
   "source": [
    "from parcels import FieldSet, ParticleSet, Variable, JITParticle, AdvectionRK4, ErrorCode, plotTrajectoriesFile\n",
    "import numpy as np\n",
    "import math\n",
    "from datetime import timedelta\n",
    "from operator import attrgetter\n",
    "import netCDF4\n",
    "import pandas\n",
    "import os\n",
    "from datetime import datetime\n",
    "import matplotlib.pyplot as plt\n",
    "from mpl_toolkits.basemap import Basemap\n",
    "from datetime import datetime\n",
    "from matplotlib.pyplot import hold, figure, pcolor, colorbar, xlabel, ylabel, title, draw, quiver, show, savefig\n",
    "import cmocean as cm\n"
   ]
  },
  {
   "cell_type": "markdown",
   "metadata": {},
   "source": [
    "# Defining the Files that are needed to Run Parcels"
   ]
  },
  {
   "cell_type": "markdown",
   "metadata": {},
   "source": [
    "Globfiles = This is the exact files that the synthetic particle tracker will use from GlobCurrent. It then uses files from 20080101 to 20080110 for example to run the synthetic particle tracker. This allows for the correct time period to be used during comparisons."
   ]
  },
  {
   "cell_type": "code",
   "execution_count": 8,
   "metadata": {
    "collapsed": true
   },
   "outputs": [],
   "source": [
    "dates = [datetime(2008, 1, 1) + timedelta(days=x) for x in range(0, 10)]\n",
    "\n",
    "globfiles = [\"GlobCurrent_Daily/\" + x.strftime(\"%Y%m%d\") + \"-GLOBCURRENT-L4-CUReul_15m-ALT_SUM-v03.0-fv01.0.nc\" for x in dates]"
   ]
  },
  {
   "cell_type": "markdown",
   "metadata": {},
   "source": [
    "In this case, it is important to take note of the exact version of GlobCurrent (v1,v2 or v3) that one is using. This will result in a different file name in the section as follows \"-GLOBCURRENT-L4-CUReul_15m-ALT_SUM-v03.0-fv01.0.nc\". Furthermore, it is also important to make sure you are using daily instead of 3-hourly as this will also affect the file name."
   ]
  },
  {
   "cell_type": "markdown",
   "metadata": {},
   "source": [
    "# Telling Parcels which files to use to force the synthetic particles"
   ]
  },
  {
   "cell_type": "code",
   "execution_count": 9,
   "metadata": {
    "collapsed": true
   },
   "outputs": [],
   "source": [
    "filenames = {'U': globfiles,\n",
    "             'V': globfiles}\n",
    "\n",
    "variables = {'U': 'eastward_eulerian_current_velocity',\n",
    "             'V': 'northward_eulerian_current_velocity'}\n",
    "dimensions = {'lat': 'lat',\n",
    "              'lon': 'lon',\n",
    "              'time': 'time'}"
   ]
  },
  {
   "cell_type": "markdown",
   "metadata": {},
   "source": [
    "These dimensions are specific to GlobCurrent input data. This will obviously vary if a different ocean product or model is being used to run parcels. "
   ]
  },
  {
   "cell_type": "code",
   "execution_count": 208,
   "metadata": {},
   "outputs": [],
   "source": [
    "fieldset = FieldSet.from_netcdf(filenames, variables, dimensions, allow_time_extrapolation=True)\n",
    "\n",
    "lonW = 10  #western part of deployment box\n",
    "lonE = 15  #eastern part of deployment box\n",
    "latS = -40 #southern part of deployment box\n",
    "latN = -30 #northern part of deployment box\n",
    "particles = 10 #number of particles one wants to deploy\n",
    "\n",
    "lons, lats = np.meshgrid(np.arange(lonW, lonE, 1), np.arange(latS, latN,1))\n",
    "pset = ParticleSet.from_list(fieldset=fieldset, pclass=JITParticle, lon=lons, lat=lats)\n"
   ]
  },
  {
   "cell_type": "code",
   "execution_count": 209,
   "metadata": {},
   "outputs": [
    {
     "name": "stderr",
     "output_type": "stream",
     "text": [
      "INFO: Compiled JITParticleAdvectionRK4 ==> /var/folders/r4/54mc4t2559d_d1fnkl99m38r0000gn/T/parcels-501/27805ff3aa34ba12ddb373f3f2cb1d1b.so\n"
     ]
    },
    {
     "data": {
      "image/png": "[encoded data removed]",
      "text/plain": [
       "<matplotlib.figure.Figure at 0x11507e0d0>"
      ]
     },
     "metadata": {},
     "output_type": "display_data"
    }
   ],
   "source": [
    "os.remove(\"testing3.nc\")\n",
    "output_file = pset.ParticleFile(name=\"testing3\")\n",
    "pset.execute(AdvectionRK4, starttime=datetime(2008, 1, 1), runtime=timedelta(days=70),\n",
    "             dt=timedelta(minutes=5), interval=timedelta(hours=6),output_file=output_file)\n",
    "\n",
    "nc = netCDF4.Dataset(\"testing3.nc\")\n",
    "lon = nc.variables[\"lon\"][:]\n",
    "lat = nc.variables[\"lat\"][:]\n",
    "\n",
    "\n",
    "m = Basemap(projection = \"merc\", resolution=\"i\",llcrnrlon = 0, \n",
    "            llcrnrlat = -43, urcrnrlon = 40, urcrnrlat = -20,lat_0= -20,lon_0 = 0)\n",
    "f1,f2 = m(lon,lat)\n",
    "m.scatter(f1,f2,10,color=\"red\", marker = \"o\", alpha = 1, zorder=3)\n",
    "\n",
    "#Blue=GC\n",
    "#Red = Hycom\n",
    "\n",
    "m.drawcoastlines()\n",
    "m.fillcontinents()\n",
    "m.drawmapboundary()\n",
    "#m.bluemarble()\n",
    "m.drawparallels(np.arange(-90.,99.,10), color=\"k\",labels=[1,0,0,0],fontsize=15)\n",
    "m.drawmeridians(np.arange(-180.,180.,10), color=\"k\",labels=[0,0,0,1],fontsize=15)\n",
    "\n",
    "plt.show()"
   ]
  },
  {
   "cell_type": "code",
   "execution_count": 129,
   "metadata": {},
   "outputs": [],
   "source": []
  },
  {
   "cell_type": "code",
   "execution_count": 192,
   "metadata": {},
   "outputs": [
    {
     "data": {
      "image/png": "[encoded data removed]",
      "text/plain": [
       "<matplotlib.figure.Figure at 0x10b3c50d0>"
      ]
     },
     "metadata": {},
     "output_type": "display_data"
    },
    {
     "data": {
      "text/plain": [
       "array([[10, 11, 12, 13, 14],\n",
       "       [10, 11, 12, 13, 14],\n",
       "       [10, 11, 12, 13, 14],\n",
       "       [10, 11, 12, 13, 14],\n",
       "       [10, 11, 12, 13, 14],\n",
       "       [10, 11, 12, 13, 14],\n",
       "       [10, 11, 12, 13, 14],\n",
       "       [10, 11, 12, 13, 14],\n",
       "       [10, 11, 12, 13, 14],\n",
       "       [10, 11, 12, 13, 14]])"
      ]
     },
     "execution_count": 192,
     "metadata": {},
     "output_type": "execute_result"
    }
   ],
   "source": [
    "plt.scatter(lons,lats)\n",
    "plt.show()\n",
    "\n",
    "lons"
   ]
  },
  {
   "cell_type": "code",
   "execution_count": 144,
   "metadata": {},
   "outputs": [],
   "source": [
    "parallels = np.arange(np.floor(latS),np.ceil(latN),1)\n",
    "meridians = np.arange(np.floor(lonW),np.ceil(lonE),1)"
   ]
  },
  {
   "cell_type": "code",
   "execution_count": 147,
   "metadata": {},
   "outputs": [],
   "source": [
    "grid = np.meshgrid(meridians,parallels)"
   ]
  },
  {
   "cell_type": "code",
   "execution_count": 175,
   "metadata": {},
   "outputs": [
    {
     "data": {
      "text/plain": [
       "0.0"
      ]
     },
     "execution_count": 175,
     "metadata": {},
     "output_type": "execute_result"
    }
   ],
   "source": []
  },
  {
   "cell_type": "code",
   "execution_count": null,
   "metadata": {
    "collapsed": true
   },
   "outputs": [],
   "source": []
  }
 ],
 "metadata": {
  "kernelspec": {
   "display_name": "Python 2",
   "language": "python",
   "name": "python2"
  },
  "language_info": {
   "codemirror_mode": {
    "name": "ipython",
    "version": 2
   },
   "file_extension": ".py",
   "mimetype": "text/x-python",
   "name": "python",
   "nbconvert_exporter": "python",
   "pygments_lexer": "ipython2",
   "version": "2.7.13"
  }
 },
 "nbformat": 4,
 "nbformat_minor": 2
}
