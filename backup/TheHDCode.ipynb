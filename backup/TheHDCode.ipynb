{
 "cells": [
  {
   "cell_type": "markdown",
   "metadata": {
    "collapsed": true
   },
   "source": [
    "# The HD Code - GlobCurrent\n",
    "\n",
    "The Set of Codes to run Ocean Parcels to use text files as starting locations and starting times\n",
    "\n",
    "Import the appropriate modules that are used in the code."
   ]
  },
  {
   "cell_type": "code",
   "execution_count": 2,
   "metadata": {
    "collapsed": true
   },
   "outputs": [],
   "source": [
    "from parcels import FieldSet, ParticleSet, Variable, JITParticle, AdvectionRK4, ErrorCode, plotTrajectoriesFile\n",
    "import numpy as np\n",
    "import math\n",
    "from datetime import timedelta\n",
    "from operator import attrgetter\n",
    "from netCDF4 import Dataset\n",
    "import netCDF4\n",
    "import pandas\n",
    "from datetime import timedelta\n",
    "from datetime import datetime"
   ]
  },
  {
   "cell_type": "markdown",
   "metadata": {
    "collapsed": true
   },
   "source": [
    "This is the input of the raw drifter starting locations. This file contains drifter IDs, date (starting), days_travelled, starting lon and latitudes. Note this is written for a text file and will need to be adjusted for a different file type."
   ]
  },
  {
   "cell_type": "code",
   "execution_count": 2,
   "metadata": {
    "collapsed": true
   },
   "outputs": [],
   "source": [
    "drifters = pandas.read_csv(\"/Users/hart-davis/Desktop/Scripts/Drifter_Starting_Locations2.txt\", sep=\"\\t\")"
   ]
  },
  {
   "cell_type": "markdown",
   "metadata": {
    "collapsed": true
   },
   "source": [
    "Start of the loop that is used. This is designed to account for a large amount of drifters.\n",
    "Start = The Starting Date to run the synthetic particle tracker.\n",
    "Date = Is the starting date in the appropriate format.\n",
    "Travel = The amount of days to run the synthetic particle tracker for. \n",
    "ID = The ID of the drifter that is being used in this iteration.\n",
    "Dates = The dates for which to run the particle tracker. From start to finish.\n",
    "\n",
    "Globfiles = This is the exact files that the synthetic particle tracker will use from GlobCurrent. It then uses files from 20000101 to 20000110 for example to run the synthetic particle tracker. This allows for the correct time period to be used during comparisons.\n",
    "\n",
    "Plots the results of the simulation above. Make sure to adjust the file name to where you have saved the output. Tracerfile is the background of the image you want to illustrate, the GlobCurrent velocity field.\n",
    "\n",
    "The filenames are the files that the synthetic particle tracker uses to run the simulations. It uses globfiles which tells it exactly which files to use. This is computationally efficient and increases accuracy. U - x velocity component, V - y velocity component. Variables extract the velocity data that will be used to force the synthetic particle tracker and the dimensions are the global reference point and the time.\n",
    "\n",
    "In this step, I have set up the code to make it easier for users to use the code. lonD is the furthest eastward longitudinal point, lonD1 is the furthest westward longitudinal point, latD is the furthest northward latitudinal point and latD1 is the furthest southward latitudinal point.\n",
    "\n",
    "sim_days is the number of days the particle tracker will be run for. part is the number of particle you want to deploy in the particle tracker. In this case, the drifter.lon[x] calls the starting longitudinal point of the observed drifter that is being used in this iteration. \n",
    "\n",
    "This next step calls the variables that we have defined in the previous step.\n",
    "\n",
    "The hours is the hourly output that you want to get from the synthetic particle tracker. 6-Hourly is used in this case so that it can be compared to the drifter trajectories. This number can be hourly, daily (24) etc. name is the name you want to name the file, while str(ID) gives the PARCEL the same name as the drifter that it is being compared to. "
   ]
  },
  {
   "cell_type": "code",
   "execution_count": 2,
   "metadata": {
    "scrolled": true
   },
   "outputs": [
    {
     "name": "stderr",
     "output_type": "stream",
     "text": [
      "WARNING: Casting depth data to np.float32\n",
      "INFO: Compiled JITParticleAdvectionRK4 ==> /var/folders/r4/54mc4t2559d_d1fnkl99m38r0000gn/T/parcels-501/27805ff3aa34ba12ddb373f3f2cb1d1b.so\n"
     ]
    },
    {
     "data": {
      "image/png": "[encoded data removed]",
      "text/plain": [
       "<matplotlib.figure.Figure at 0x117ed33d0>"
      ]
     },
     "metadata": {},
     "output_type": "display_data"
    },
    {
     "data": {
      "text/plain": [
       "<module 'matplotlib.pyplot' from '/Users/hart-davis/anaconda2/lib/python2.7/site-packages/matplotlib/pyplot.pyc'>"
      ]
     },
     "execution_count": 2,
     "metadata": {},
     "output_type": "execute_result"
    }
   ],
   "source": [
    "\n",
    "globfiles = [\"/Users/hart-davis/Desktop/Scripts/GlobCurrent_Daily/20080101-GLOBCURRENT-L4-CUReul_15m-ALT_SUM-v03.0-fv01.0.nc\"]\n",
    "\n",
    "\n",
    "filenames = {'U': globfiles,\n",
    "             'V': globfiles}\n",
    "\n",
    "variables = {'U': 'eastward_eulerian_current_velocity',\n",
    "             'V': 'northward_eulerian_current_velocity'}\n",
    "dimensions = {'lat': 'lat',\n",
    "              'lon': 'lon',\n",
    "              'time': 'time'}\n",
    "\n",
    "fieldset = FieldSet.from_netcdf(filenames, variables, dimensions, allow_time_extrapolation=True)\n",
    "\n",
    "pset = ParticleSet.from_line(fieldset=fieldset, size=5, pclass=JITParticle, \n",
    "                             start=(14.8504999999999999, -32.9804000000000002), finish=(14.8504999999999999, -32.9804000000000002))\n",
    "\n",
    "output_file = pset.ParticleFile(name=\"testing3\")\n",
    "pset.execute(AdvectionRK4, starttime=datetime(2008, 1, 1), runtime=timedelta(days=70),\n",
    "             dt=timedelta(minutes=5), interval=timedelta(hours=6),output_file=output_file)\n",
    "\n",
    "plotTrajectoriesFile('testing3.nc')\n",
    "\n"
   ]
  },
  {
   "cell_type": "code",
   "execution_count": 12,
   "metadata": {},
   "outputs": [
    {
     "data": {
      "text/plain": [
       "<type 'netCDF4._netCDF4.Variable'>\n",
       "float64 ucx(time, nFlowElem, laydim)\n",
       "    coordinates: FlowElem_xcc FlowElem_ycc\n",
       "    standard_name: eastward_sea_water_velocity\n",
       "    long_name: eastward velocity on cell center\n",
       "    units: m s-1\n",
       "    grid_mapping: projected_coordinate_system\n",
       "unlimited dimensions: time\n",
       "current shape = (1, 10468, 10)\n",
       "filling off"
      ]
     },
     "execution_count": 12,
     "metadata": {},
     "output_type": "execute_result"
    }
   ],
   "source": []
  },
  {
   "cell_type": "code",
   "execution_count": 5,
   "metadata": {
    "scrolled": false
   },
   "outputs": [
    {
     "ename": "KeyboardInterrupt",
     "evalue": "",
     "output_type": "error",
     "traceback": [
      "\u001b[0;31m---------------------------------------------------------------------------\u001b[0m",
      "\u001b[0;31mKeyboardInterrupt\u001b[0m                         Traceback (most recent call last)",
      "\u001b[0;32m<ipython-input-5-9bae825e7555>\u001b[0m in \u001b[0;36m<module>\u001b[0;34m()\u001b[0m\n\u001b[1;32m     50\u001b[0m \u001b[0ms1\u001b[0m\u001b[0;34m,\u001b[0m\u001b[0ms2\u001b[0m \u001b[0;34m=\u001b[0m \u001b[0mm\u001b[0m\u001b[0;34m(\u001b[0m\u001b[0mllon\u001b[0m\u001b[0;34m,\u001b[0m\u001b[0mllat\u001b[0m\u001b[0;34m)\u001b[0m\u001b[0;34m\u001b[0m\u001b[0m\n\u001b[1;32m     51\u001b[0m \u001b[0;34m\u001b[0m\u001b[0m\n\u001b[0;32m---> 52\u001b[0;31m \u001b[0mcntour\u001b[0m \u001b[0;34m=\u001b[0m \u001b[0mm\u001b[0m\u001b[0;34m.\u001b[0m\u001b[0mcontourf\u001b[0m\u001b[0;34m(\u001b[0m\u001b[0mxx\u001b[0m\u001b[0;34m,\u001b[0m\u001b[0myy\u001b[0m\u001b[0;34m,\u001b[0m\u001b[0mssh\u001b[0m\u001b[0;34m,\u001b[0m\u001b[0mcmap\u001b[0m\u001b[0;34m=\u001b[0m\u001b[0mcm\u001b[0m\u001b[0;34m.\u001b[0m\u001b[0mcm\u001b[0m\u001b[0;34m.\u001b[0m\u001b[0mgray_r\u001b[0m\u001b[0;34m,\u001b[0m\u001b[0mlevels\u001b[0m\u001b[0;34m=\u001b[0m\u001b[0mnp\u001b[0m\u001b[0;34m.\u001b[0m\u001b[0mlinspace\u001b[0m\u001b[0;34m(\u001b[0m\u001b[0;34m-\u001b[0m\u001b[0;36m6000\u001b[0m\u001b[0;34m,\u001b[0m\u001b[0;36m1\u001b[0m\u001b[0;34m,\u001b[0m\u001b[0;36m100\u001b[0m\u001b[0;34m)\u001b[0m\u001b[0;34m,\u001b[0m\u001b[0malpha\u001b[0m\u001b[0;34m=\u001b[0m\u001b[0;36m0.1\u001b[0m\u001b[0;34m,\u001b[0m\u001b[0mzorder\u001b[0m\u001b[0;34m=\u001b[0m\u001b[0;36m1\u001b[0m\u001b[0;34m)\u001b[0m\u001b[0;34m\u001b[0m\u001b[0m\n\u001b[0m\u001b[1;32m     53\u001b[0m \u001b[0;34m\u001b[0m\u001b[0m\n\u001b[1;32m     54\u001b[0m \u001b[0max\u001b[0m \u001b[0;34m=\u001b[0m \u001b[0mm\u001b[0m\u001b[0;34m.\u001b[0m\u001b[0mscatter\u001b[0m\u001b[0;34m(\u001b[0m\u001b[0ms1\u001b[0m\u001b[0;34m[\u001b[0m\u001b[0;34m:\u001b[0m\u001b[0mlen\u001b[0m\u001b[0;34m(\u001b[0m\u001b[0mloni\u001b[0m\u001b[0;34m[\u001b[0m\u001b[0;36m0\u001b[0m\u001b[0;34m]\u001b[0m\u001b[0;34m)\u001b[0m\u001b[0;34m]\u001b[0m\u001b[0;34m,\u001b[0m\u001b[0ms2\u001b[0m\u001b[0;34m[\u001b[0m\u001b[0;34m:\u001b[0m\u001b[0mlen\u001b[0m\u001b[0;34m(\u001b[0m\u001b[0mlati\u001b[0m\u001b[0;34m[\u001b[0m\u001b[0;36m0\u001b[0m\u001b[0;34m]\u001b[0m\u001b[0;34m)\u001b[0m\u001b[0;34m]\u001b[0m\u001b[0;34m,\u001b[0m\u001b[0;36m20\u001b[0m\u001b[0;34m,\u001b[0m\u001b[0mcolor\u001b[0m\u001b[0;34m=\u001b[0m\u001b[0;34m\"deepskyblue\"\u001b[0m\u001b[0;34m,\u001b[0m \u001b[0mmarker\u001b[0m \u001b[0;34m=\u001b[0m \u001b[0;34m\"o\"\u001b[0m\u001b[0;34m,\u001b[0m \u001b[0malpha\u001b[0m \u001b[0;34m=\u001b[0m \u001b[0;36m1\u001b[0m\u001b[0;34m,\u001b[0m\u001b[0mzorder\u001b[0m\u001b[0;34m=\u001b[0m\u001b[0;36m3\u001b[0m\u001b[0;34m)\u001b[0m\u001b[0;34m\u001b[0m\u001b[0m\n",
      "\u001b[0;31mKeyboardInterrupt\u001b[0m: "
     ]
    }
   ],
   "source": [
    "from netCDF4 import date2index\n",
    "import netCDF4\n",
    "import numpy as np\n",
    "import xarray as xr, xray\n",
    "import matplotlib.pyplot as plt\n",
    "from mpl_toolkits.basemap import Basemap\n",
    "from datetime import datetime\n",
    "from matplotlib.pyplot import hold, figure, pcolor, colorbar, xlabel, ylabel, title, draw, quiver, show, savefig\n",
    "import cmocean as cm\n",
    "import matplotlib.patches as mpatches\n",
    "import pandas\n",
    "import matplotlib as mpl\n",
    "\n",
    "cmap = cm.cm.balance\n",
    "\n",
    "tset = \"/Users/hart-davis/Desktop/Scripts/testing3.nc\"\n",
    "ts = netCDF4.Dataset(tset)\n",
    "\n",
    "#hycom\n",
    "\n",
    "loni = ts.variables[\"lon\"][:]\n",
    "lati = ts.variables[\"lat\"][:]\n",
    "\n",
    "nset = \"/Users/hart-davis/Desktop/Scripts/testing3.nc\"\n",
    "nc = netCDF4.Dataset(nset)\n",
    "\n",
    "#globcurrent\n",
    "\n",
    "llon = nc.variables[\"lon\"][:]\n",
    "llat = nc.variables[\"lat\"][:]\n",
    "\n",
    "date = ts.variables[\"time\"][0]\n",
    "d = date - 630720000\n",
    "a = (d.data-d.data[0])/3600/24\n",
    "a = np.array(a)\n",
    "\n",
    "m = Basemap(projection = \"merc\", resolution=\"i\",llcrnrlon = 0, \n",
    "            llcrnrlat = -43, urcrnrlon = 40, urcrnrlat = -20,lat_0= -20,lon_0 = 0)\n",
    "\n",
    "globfiles = \"/Users/hart-davis/Desktop/Scripts/GEBCO_2014_6x6min_Global.nc\"\n",
    "\n",
    "nc = netCDF4.Dataset(globfiles)\n",
    "\n",
    "ssh = nc.variables[\"Height\"][:]\n",
    "lon = nc.variables[\"lon\"][:]\n",
    "lat = nc.variables[\"lat\"][:]\n",
    "figure1 = figure(figsize=(13, 10), dpi=160, facecolor='w', edgecolor='k')\n",
    "xx, yy = m(*np.meshgrid(lon,lat))\n",
    "f1,f2 = m(loni,lati)\n",
    "s1,s2 = m(llon,llat)\n",
    "\n",
    "cntour = m.contourf(xx,yy,ssh,cmap=cm.cm.gray_r,levels=np.linspace(-6000,1,100),alpha=0.1,zorder=1)\n",
    "\n",
    "ax = m.scatter(s1[:len(loni[0])],s2[:len(lati[0])],20,color=\"deepskyblue\", marker = \"o\", alpha = 1,zorder=3)\n",
    "m.scatter(f1,f2,10,color=\"red\", marker = \"o\", alpha = 1, zorder=3)\n",
    "\n",
    "#Blue=GC\n",
    "#Red = Hycom\n",
    "\n",
    "m.drawcoastlines()\n",
    "m.fillcontinents()\n",
    "m.drawmapboundary()\n",
    "#m.bluemarble()\n",
    "m.drawparallels(np.arange(-90.,99.,10), color=\"k\",labels=[1,0,0,0],fontsize=15)\n",
    "m.drawmeridians(np.arange(-180.,180.,10), color=\"k\",labels=[0,0,0,1],fontsize=15)\n",
    "\n",
    "plt.show()"
   ]
  },
  {
   "cell_type": "markdown",
   "metadata": {},
   "source": [
    " "
   ]
  },
  {
   "cell_type": "code",
   "execution_count": 7,
   "metadata": {},
   "outputs": [],
   "source": [
    "nset = \"/Users/hart-davis/Desktop/Scripts/testing3.nc\"\n",
    "nc = netCDF4.Dataset(nset)\n",
    "\n",
    "lon = nc.variables[\"lon\"][:]\n",
    "lat = nc.variables[\"lat\"][:]\n",
    "\n",
    "m = Basemap(projection = \"merc\", resolution=\"i\",llcrnrlon = 56, \n",
    "            llcrnrlat = -70, urcrnrlon = -70, urcrnrlat = -29,lat_0= -20,lon_0 = 0)\n",
    "f1,f2 = m(lon,lat)"
   ]
  },
  {
   "cell_type": "code",
   "execution_count": 10,
   "metadata": {},
   "outputs": [
    {
     "data": {
      "image/png": "[encoded data removed]",
      "text/plain": [
       "<matplotlib.figure.Figure at 0x12a732910>"
      ]
     },
     "metadata": {},
     "output_type": "display_data"
    }
   ],
   "source": [
    "m.scatter(f1,f2,1, marker = \".\", alpha = 1, zorder=3)\n",
    "plt.show()"
   ]
  },
  {
   "cell_type": "code",
   "execution_count": 14,
   "metadata": {},
   "outputs": [
    {
     "data": {
      "text/plain": [
       "masked_array(data = [-70.0 -69.9000015258789 -69.80000305175781 ..., 55.70000076293945\n",
       " 55.79999923706055 55.900001525878906],\n",
       "             mask = [False False False ..., False False False],\n",
       "       fill_value = nan)"
      ]
     },
     "execution_count": 14,
     "metadata": {},
     "output_type": "execute_result"
    }
   ],
   "source": [
    "lon[:,0]"
   ]
  },
  {
   "cell_type": "code",
   "execution_count": null,
   "metadata": {
    "collapsed": true
   },
   "outputs": [],
   "source": []
  }
 ],
 "metadata": {
  "kernelspec": {
   "display_name": "Python 2",
   "language": "python",
   "name": "python2"
  },
  "language_info": {
   "codemirror_mode": {
    "name": "ipython",
    "version": 2
   },
   "file_extension": ".py",
   "mimetype": "text/x-python",
   "name": "python",
   "nbconvert_exporter": "python",
   "pygments_lexer": "ipython2",
   "version": "2.7.13"
  }
 },
 "nbformat": 4,
 "nbformat_minor": 2
}
